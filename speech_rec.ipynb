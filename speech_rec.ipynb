{
 "cells": [
  {
   "cell_type": "code",
   "execution_count": 1,
   "id": "d0678c12-6e2c-4eae-9e2d-7538191bfb68",
   "metadata": {},
   "outputs": [],
   "source": [
    "from vosk import Model, KaldiRecognizer"
   ]
  },
  {
   "cell_type": "code",
   "execution_count": 2,
   "id": "73c9c554-e3e4-46dd-9197-f4c57f217cd9",
   "metadata": {},
   "outputs": [
    {
     "name": "stderr",
     "output_type": "stream",
     "text": [
      "LOG (VoskAPI:ReadDataFiles():model.cc:213) Decoding params beam=10 max-active=7000 lattice-beam=6\n",
      "LOG (VoskAPI:ReadDataFiles():model.cc:216) Silence phones 1:2:3:4:5:6:7:8:9:10\n",
      "LOG (VoskAPI:RemoveOrphanNodes():nnet-nnet.cc:948) Removed 0 orphan nodes.\n",
      "LOG (VoskAPI:RemoveOrphanComponents():nnet-nnet.cc:847) Removing 0 orphan components.\n",
      "LOG (VoskAPI:ReadDataFiles():model.cc:248) Loading i-vector extractor from /home/vini/.cache/vosk/vosk-model-pt-fb-v0.1.1-20220516_2113/ivector/final.ie\n",
      "LOG (VoskAPI:ComputeDerivedVars():ivector-extractor.cc:183) Computing derived variables for iVector extractor\n",
      "LOG (VoskAPI:ComputeDerivedVars():ivector-extractor.cc:204) Done.\n",
      "LOG (VoskAPI:ReadDataFiles():model.cc:279) Loading HCLG from /home/vini/.cache/vosk/vosk-model-pt-fb-v0.1.1-20220516_2113/graph/HCLG.fst\n",
      "LOG (VoskAPI:ReadDataFiles():model.cc:297) Loading words from /home/vini/.cache/vosk/vosk-model-pt-fb-v0.1.1-20220516_2113/graph/words.txt\n",
      "LOG (VoskAPI:ReadDataFiles():model.cc:308) Loading winfo /home/vini/.cache/vosk/vosk-model-pt-fb-v0.1.1-20220516_2113/graph/phones/word_boundary.int\n",
      "LOG (VoskAPI:ReadDataFiles():model.cc:315) Loading subtract G.fst model from /home/vini/.cache/vosk/vosk-model-pt-fb-v0.1.1-20220516_2113/rescore/G.fst\n",
      "LOG (VoskAPI:ReadDataFiles():model.cc:317) Loading CARPA model from /home/vini/.cache/vosk/vosk-model-pt-fb-v0.1.1-20220516_2113/rescore/G.carpa\n"
     ]
    }
   ],
   "source": [
    "FRAME_RATE = 16000\n",
    "CHANNELS = 1\n",
    "\n",
    "model = Model( model_name=\"vosk-model-pt-fb-v0.1.1-20220516_2113\" )\n",
    "\n",
    "rec = KaldiRecognizer( model, FRAME_RATE )\n",
    "rec.SetWords(True)"
   ]
  },
  {
   "cell_type": "code",
   "execution_count": 3,
   "id": "58f88e82-6cd3-4d68-a57b-77bbc597ad78",
   "metadata": {},
   "outputs": [],
   "source": [
    "from pydub import AudioSegment"
   ]
  },
  {
   "cell_type": "code",
   "execution_count": 4,
   "id": "4cde6bc4-998c-48cb-82cc-e6b27b7eaf59",
   "metadata": {},
   "outputs": [],
   "source": [
    "mp3 = AudioSegment.from_mp3(\"test_audio.mp3\")\n",
    "mp3 = mp3.set_channels(CHANNELS)\n",
    "mp3 = mp3.set_frame_rate(FRAME_RATE)"
   ]
  },
  {
   "cell_type": "code",
   "execution_count": 5,
   "id": "aeee1352-e08e-4c41-942a-cdecaf9b8011",
   "metadata": {},
   "outputs": [],
   "source": [
    "rec.AcceptWaveform(mp3.raw_data)\n",
    "result = rec.Result()"
   ]
  },
  {
   "cell_type": "code",
   "execution_count": 6,
   "id": "870f4470-5c3a-4cc8-aafc-0a5875c5c5f6",
   "metadata": {},
   "outputs": [],
   "source": [
    "import json\n",
    "\n",
    "text = json.loads(result)[\"text\"]"
   ]
  },
  {
   "cell_type": "code",
   "execution_count": 7,
   "id": "efb56159-c85c-4700-a92a-a2e422e2d1ef",
   "metadata": {},
   "outputs": [
    {
     "data": {
      "text/plain": [
       "'então eu estava no mercado e aí ficava até supermercado casa tava tendo um aniversário guanabara e ainda o motivo nunca foi barato mas do que sentar e aí hoje eu fui estava lotada tinha várias filas enfim tais como eu comprar pouca coisa com pouco volume e eu fui pra fila de pouco volume e minha mãe foi como foi lá pegar o lixo nas ruas pra comprar fica na fila por carrinho vazio trapaça trapaça mas enfim teve muita pouca coisa em comparação aos outros estamos sendo duas carrilho vital e ainda pior culpar vejam trocação e aí na hora de pôr o cara na frente estavam terminando e chega a minha vez e antenada para passar aí mandei o cara então outra na minha frente só que sinceramente não sei se foi pior porque tava cheio de coisas e é isso que a mulher ainda estava chegando ou seja tem espaço mais outra pessoa que ele chegou através dele contavam com buscar verbas chegou em detrimento oponentes em <UNK> mas não foi por conta disso seu quente um cara atrás de mim que estava usando litros alta onde o gosto de mitos mas também suporta criavam estavam clima assim nada amistoso o berço do altamente um cavalo carros parecerista'"
      ]
     },
     "execution_count": 7,
     "metadata": {},
     "output_type": "execute_result"
    }
   ],
   "source": [
    "text"
   ]
  },
  {
   "cell_type": "code",
   "execution_count": null,
   "id": "5627099a-55cb-4d08-90d4-9eb85ccf2a43",
   "metadata": {},
   "outputs": [],
   "source": []
  }
 ],
 "metadata": {
  "kernelspec": {
   "display_name": "Python 3 (ipykernel)",
   "language": "python",
   "name": "python3"
  },
  "language_info": {
   "codemirror_mode": {
    "name": "ipython",
    "version": 3
   },
   "file_extension": ".py",
   "mimetype": "text/x-python",
   "name": "python",
   "nbconvert_exporter": "python",
   "pygments_lexer": "ipython3",
   "version": "3.11.5"
  }
 },
 "nbformat": 4,
 "nbformat_minor": 5
}
